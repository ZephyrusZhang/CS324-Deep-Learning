{
 "cells": [
  {
   "cell_type": "code",
   "execution_count": 1,
   "metadata": {},
   "outputs": [],
   "source": [
    "import numpy as np"
   ]
  },
  {
   "cell_type": "code",
   "execution_count": 2,
   "metadata": {},
   "outputs": [
    {
     "name": "stdout",
     "output_type": "stream",
     "text": [
      "shape of X: (64,), W: (64, 32), B: (32,)\n",
      "output shape: (32,)\n"
     ]
    }
   ],
   "source": [
    "# Output=32, Input=64\n",
    "input_size = 64\n",
    "output_size = 32\n",
    "W = np.random.rand(input_size, output_size)\n",
    "b = np.random.rand(output_size)\n",
    "X = np.random.rand(input_size)\n",
    "print(f'shape of X: {X.shape}, W: {W.shape}, B: {b.shape}')\n",
    "Y = X @ W + b\n",
    "print(f'output shape: {Y.shape}')"
   ]
  },
  {
   "cell_type": "code",
   "execution_count": 3,
   "metadata": {},
   "outputs": [
    {
     "name": "stdout",
     "output_type": "stream",
     "text": [
      "shape of X: (16, 64), W: (64, 32), B: (32,)\n",
      "output shape: (16, 32)\n",
      "(16, 32)\n"
     ]
    }
   ],
   "source": [
    "# forward\n",
    "# batch dimention included\n",
    "B = 16\n",
    "X = np.random.rand(B, input_size)\n",
    "print(f'shape of X: {X.shape}, W: {W.shape}, B: {b.shape}')\n",
    "Y = X @ W + b\n",
    "print(f'output shape: {Y.shape}')\n",
    "print(Y.shape)"
   ]
  },
  {
   "cell_type": "code",
   "execution_count": 4,
   "metadata": {},
   "outputs": [
    {
     "name": "stdout",
     "output_type": "stream",
     "text": [
      "shape of X[:, None]: (64, 1)\n",
      "shape of dout[None, :]: (1, 32)\n",
      "[[0. 0. 0. ... 0. 0. 0.]\n",
      " [0. 0. 0. ... 0. 0. 0.]\n",
      " [0. 0. 0. ... 0. 0. 0.]\n",
      " ...\n",
      " [0. 0. 0. ... 0. 0. 0.]\n",
      " [0. 0. 0. ... 0. 0. 0.]\n",
      " [0. 0. 0. ... 0. 0. 0.]]\n"
     ]
    }
   ],
   "source": [
    "dLdout = np.random.rand(output_size)\n",
    "X = np.random.rand(input_size)\n",
    "dLdW_1 = np.outer(X, dLdout)\n",
    "\n",
    "# (I, 1) dot (1, O) -> (I, O)\n",
    "dLdW_2 = X[:, None] @ dLdout[None, :]\n",
    "print(f'shape of X[:, None]: {X[:, None].shape}')\n",
    "print(f'shape of dout[None, :]: {dLdout[None, :].shape}')\n",
    "print(dLdW_1 - dLdW_2)"
   ]
  },
  {
   "cell_type": "code",
   "execution_count": 5,
   "metadata": {},
   "outputs": [
    {
     "name": "stdout",
     "output_type": "stream",
     "text": [
      "shape of dLdw (64, 32)\n",
      "shape of dLdw_einsum (64, 32)\n",
      "[[0. 0. 0. ... 0. 0. 0.]\n",
      " [0. 0. 0. ... 0. 0. 0.]\n",
      " [0. 0. 0. ... 0. 0. 0.]\n",
      " ...\n",
      " [0. 0. 0. ... 0. 0. 0.]\n",
      " [0. 0. 0. ... 0. 0. 0.]\n",
      " [0. 0. 0. ... 0. 0. 0.]]\n"
     ]
    }
   ],
   "source": [
    "# backward\n",
    "# X (N, I) dLdout (N, O)\n",
    "# X (I) dLdout (O)\n",
    "# dLdw[i][o] = X[i] * dLdout[o]\n",
    "\n",
    "X = np.random.rand(B, input_size)\n",
    "# dLdout = np.random.rand(B, output_size)\n",
    "dLdout = np.ones((B, output_size))\n",
    "\n",
    "\n",
    "# (1, I)' dot (1, O) -> (I, O)\n",
    "X[0:1,].transpose() @ dLdout[0:1,]\n",
    "\n",
    "dLdw = X.transpose() @ dLdout\n",
    "dLdw_einsum = np.einsum('ni,no->io', X, dLdout)\n",
    "\n",
    "print(f'shape of dLdw {dLdw.shape}')\n",
    "print(f'shape of dLdw_einsum {dLdw_einsum.shape}')\n",
    "\n",
    "print((dLdw - dLdw_einsum))\n",
    "# print(dLdw)\n",
    "# print(dLdw_einsum)"
   ]
  },
  {
   "cell_type": "code",
   "execution_count": 7,
   "metadata": {},
   "outputs": [
    {
     "name": "stdout",
     "output_type": "stream",
     "text": [
      "2.374747556357096\n",
      "2.374747556357096\n"
     ]
    }
   ],
   "source": [
    "# trace of A\n",
    "A = np.random.rand(5, 5)\n",
    "print(np.einsum('ii', A))\n",
    "print(np.trace(A))"
   ]
  },
  {
   "cell_type": "code",
   "execution_count": 8,
   "metadata": {},
   "outputs": [
    {
     "name": "stdout",
     "output_type": "stream",
     "text": [
      "[0.67850179 0.71502252 0.55310526 0.69844084 0.32049398]\n",
      "[0.67850179 0.71502252 0.55310526 0.69844084 0.32049398]\n"
     ]
    }
   ],
   "source": [
    "# print(np.diag(A)) \n",
    "# print(np.einsum('ii->i', A))\n",
    "# extract diagnonal element\n",
    "A = np.random.rand(5, 5, 5)\n",
    "print(np.einsum('nii->ni', A)[0])\n",
    "print(np.diag(A[0]))"
   ]
  },
  {
   "cell_type": "code",
   "execution_count": 9,
   "metadata": {},
   "outputs": [
    {
     "data": {
      "text/plain": "array([[1, 0, 0, 0],\n       [0, 2, 0, 0],\n       [0, 0, 3, 0],\n       [0, 0, 0, 4]])"
     },
     "execution_count": 9,
     "metadata": {},
     "output_type": "execute_result"
    }
   ],
   "source": [
    "np.diag([1, 2, 3, 4])"
   ]
  },
  {
   "cell_type": "code",
   "execution_count": 10,
   "metadata": {},
   "outputs": [
    {
     "name": "stdout",
     "output_type": "stream",
     "text": [
      "[[0 5]\n",
      " [1 6]\n",
      " [2 7]\n",
      " [3 8]\n",
      " [4 9]]\n",
      "[[0 5]\n",
      " [1 6]\n",
      " [2 7]\n",
      " [3 8]\n",
      " [4 9]]\n"
     ]
    }
   ],
   "source": [
    "A = np.arange(10).reshape(2, 5)\n",
    "A_t = np.einsum('ij->ji', A)\n",
    "print(A_t)\n",
    "print(A.transpose())"
   ]
  },
  {
   "cell_type": "code",
   "execution_count": 51,
   "metadata": {},
   "outputs": [],
   "source": [
    "# softmax\n",
    "X = np.random.rand(5)\n",
    "dLdS = np.random.rand(5)\n",
    "\n",
    "def sample_softmax_backward(X, dLdS):\n",
    "    X_exp = np.exp(X)\n",
    "    S = X_exp / np.sum(X_exp)\n",
    "    diag_S = np.einsum('o,os->os', S, np.eye(S.shape[0]))\n",
    "\n",
    "    SS_T = np.outer(S, S)\n",
    "    SS_T = np.einsum('no, ni->nio', S[None, :], S[None, :])\n",
    "    dSdX = diag_S - SS_T\n",
    "    # downstream gradient\n",
    "    # dSdX (O, O) dLdS (O) dLdX (O)\n",
    "    dLdX = dSdX @ dLdS\n",
    "\n",
    "    return dLdX"
   ]
  },
  {
   "cell_type": "code",
   "execution_count": 52,
   "metadata": {},
   "outputs": [],
   "source": [
    "# softmax with batch\n",
    "N = 4\n",
    "X = np.random.rand(N, 5)\n",
    "dLdS = np.random.rand(N, 5)\n",
    "def batch_softmax_backward(X, dLdS):\n",
    "    X_exp = np.exp(X)\n",
    "    # keepdims for broadcasting\n",
    "    S = X_exp / np.sum(X_exp, axis=1, keepdims=True)\n",
    "    diag_S = np.einsum('no,oi->nio', S, np.eye(S.shape[1]))\n",
    "\n",
    "    # SS_T = np.outer(S, S)\n",
    "    SS_T = np.einsum('no, ni->nio', S, S)\n",
    "\n",
    "    dSdX = diag_S - SS_T\n",
    "    # downstream gradient\n",
    "    # dSdX (N, I, O) dLdS (N, O) dLdX (N, I)\n",
    "    # dLdX (N, I, N)\n",
    "    # dLdX = dSdX @ dLdS.transpose()\n",
    "    dLdX = np.einsum('nio,no->ni', dSdX, dLdS)\n",
    "    print(dLdX.shape)\n",
    "\n",
    "    return dLdX\n"
   ]
  },
  {
   "cell_type": "code",
   "execution_count": 67,
   "metadata": {},
   "outputs": [
    {
     "name": "stdout",
     "output_type": "stream",
     "text": [
      "(4, 5)\n",
      "[ 0.00268701 -0.02608164 -0.02266046  0.04690991 -0.00085482]\n",
      "[ 0.00268701 -0.02608164 -0.02266046  0.04690991 -0.00085482]\n"
     ]
    }
   ],
   "source": [
    "N = 4\n",
    "X = np.random.rand(N, 5)\n",
    "dLdS = np.random.rand(N, 5)\n",
    "\n",
    "dLdW_1 = sample_softmax_backward(X[0], dLdS[0])\n",
    "dLdW_2 = batch_softmax_backward(X, dLdS)[0]\n",
    "print(dLdW_1)\n",
    "print(dLdW_2)"
   ]
  },
  {
   "cell_type": "code",
   "execution_count": 4,
   "metadata": {},
   "outputs": [],
   "source": [
    "input_channel = 64\n",
    "output_channel = 8\n",
    "batch_size = 64\n",
    "w = 3; h = 3\n",
    "conv_kernel = np.random.rand(output_channel, input_channel, w, h)\n",
    "patch = np.random.rand(batch_size, input_channel, w, h)"
   ]
  },
  {
   "cell_type": "code",
   "execution_count": 5,
   "metadata": {},
   "outputs": [],
   "source": [
    "def conv2d_slow():\n",
    "    conv = np.random.rand(8, 64, 3, 3)\n",
    "    patch = np.random.rand(64, 64, 3, 3)\n",
    "    results = np.zeros((64, 8, 1, 1))\n",
    "    for ii, c in enumerate(conv):\n",
    "        for jj, p in enumerate(patch):\n",
    "            results[jj, ii] = np.sum(c * p)"
   ]
  },
  {
   "cell_type": "code",
   "execution_count": 6,
   "metadata": {},
   "outputs": [],
   "source": [
    "def conv2d_fast():\n",
    "    conv = np.random.rand(8, 64, 3, 3)\n",
    "    patch = np.random.rand(64, 64, 3, 3)\n",
    "    conv_flat = conv.reshape(8, -1)\n",
    "    patch_flat = patch.reshape(64, -1)\n",
    "    result = conv_flat @ patch_flat.transpose()"
   ]
  },
  {
   "cell_type": "code",
   "execution_count": 7,
   "metadata": {},
   "outputs": [],
   "source": [
    "def conv2d_einsum():\n",
    "    conv = np.random.rand(8, 64, 3, 3)\n",
    "    patch = np.random.rand(64, 64, 3, 3)\n",
    "    result = np.einsum('oiwh,biwh->bo', conv, patch)"
   ]
  },
  {
   "cell_type": "code",
   "execution_count": 8,
   "metadata": {},
   "outputs": [
    {
     "name": "stdout",
     "output_type": "stream",
     "text": [
      "430 µs ± 134 µs per loop (mean ± std. dev. of 7 runs, 10 loops each)\n"
     ]
    }
   ],
   "source": [
    "%timeit -n 10 conv2d_fast()"
   ]
  },
  {
   "cell_type": "code",
   "execution_count": 9,
   "metadata": {},
   "outputs": [
    {
     "name": "stdout",
     "output_type": "stream",
     "text": [
      "351 µs ± 11.9 µs per loop (mean ± std. dev. of 7 runs, 10 loops each)\n"
     ]
    }
   ],
   "source": [
    "%timeit -n 10 conv2d_einsum()"
   ]
  },
  {
   "cell_type": "code",
   "execution_count": 10,
   "metadata": {},
   "outputs": [
    {
     "name": "stdout",
     "output_type": "stream",
     "text": [
      "3.21 ms ± 52.6 µs per loop (mean ± std. dev. of 7 runs, 10 loops each)\n"
     ]
    }
   ],
   "source": [
    "%timeit -n 10 conv2d_slow()"
   ]
  },
  {
   "cell_type": "code",
   "execution_count": 11,
   "metadata": {},
   "outputs": [
    {
     "data": {
      "text/plain": [
       "array([[ 9.57228531,  8.80686831, 10.09557386],\n",
       "       [11.44700331,  9.48999174, 11.31632708],\n",
       "       [ 9.36179557,  9.40877549,  9.01509729],\n",
       "       [ 9.74014882,  8.44165404, 10.38283865],\n",
       "       [10.09371035,  9.71329664, 10.84139362],\n",
       "       [ 9.60616568,  8.4117137 ,  9.87156126],\n",
       "       [ 8.65563611,  8.15354132,  9.03243714],\n",
       "       [ 7.92858488,  7.16413446,  8.15754467]])"
      ]
     },
     "execution_count": 11,
     "metadata": {},
     "output_type": "execute_result"
    }
   ],
   "source": [
    "conv = np.random.rand(3, 4, 3, 3)\n",
    "patch = np.random.rand(8, 4, 3, 3)\n",
    "np.einsum('oiwh,biwh->bo', conv, patch)"
   ]
  },
  {
   "cell_type": "code",
   "execution_count": 12,
   "metadata": {},
   "outputs": [
    {
     "data": {
      "text/plain": [
       "array([[ 9.57228531,  8.80686831, 10.09557386],\n",
       "       [11.44700331,  9.48999174, 11.31632708],\n",
       "       [ 9.36179557,  9.40877549,  9.01509729],\n",
       "       [ 9.74014882,  8.44165404, 10.38283865],\n",
       "       [10.09371035,  9.71329664, 10.84139362],\n",
       "       [ 9.60616568,  8.4117137 ,  9.87156126],\n",
       "       [ 8.65563611,  8.15354132,  9.03243714],\n",
       "       [ 7.92858488,  7.16413446,  8.15754467]])"
      ]
     },
     "execution_count": 12,
     "metadata": {},
     "output_type": "execute_result"
    }
   ],
   "source": [
    "results = np.zeros((8, 3))\n",
    "for ii, c in enumerate(conv):\n",
    "    for jj, p in enumerate(patch):\n",
    "        results[jj, ii] = np.sum(c * p)\n",
    "results"
   ]
  },
  {
   "cell_type": "code",
   "execution_count": 13,
   "metadata": {},
   "outputs": [
    {
     "data": {
      "text/plain": [
       "array([[ 9.57228531,  8.80686831, 10.09557386],\n",
       "       [11.44700331,  9.48999174, 11.31632708],\n",
       "       [ 9.36179557,  9.40877549,  9.01509729],\n",
       "       [ 9.74014882,  8.44165404, 10.38283865],\n",
       "       [10.09371035,  9.71329664, 10.84139362],\n",
       "       [ 9.60616568,  8.4117137 ,  9.87156126],\n",
       "       [ 8.65563611,  8.15354132,  9.03243714],\n",
       "       [ 7.92858488,  7.16413446,  8.15754467]])"
      ]
     },
     "execution_count": 13,
     "metadata": {},
     "output_type": "execute_result"
    }
   ],
   "source": [
    "conv_flat = conv.reshape(3, -1)\n",
    "patch_flat = patch.reshape(8, -1)\n",
    "results = patch_flat @ conv_flat.transpose()\n",
    "results"
   ]
  },
  {
   "cell_type": "code",
   "execution_count": 65,
   "metadata": {},
   "outputs": [],
   "source": [
    "import numpy as np\n",
    "\n",
    "def im2col(X, kernel_size, stride, padding):\n",
    "    batch_size, in_channels, in_height, in_width = X.shape\n",
    "    \n",
    "    # Add padding to the input tensor\n",
    "    padded_X = np.pad(X, ((0, 0), (0, 0), (padding, padding), (padding, padding)), mode='constant')\n",
    "    \n",
    "    out_height = (in_height + 2 * padding - kernel_size) // stride + 1\n",
    "    out_width = (in_width + 2 * padding - kernel_size) // stride + 1\n",
    "    \n",
    "    # Reshape the input tensor to a matrix\n",
    "    X_col = np.zeros((in_channels * kernel_size * kernel_size, batch_size, out_height * out_width))\n",
    "    for i in range(out_height):\n",
    "        for j in range(out_width):\n",
    "            patch = padded_X[:, :, i*stride:i*stride+kernel_size, j*stride:j*stride+kernel_size]\n",
    "            patch_col = patch.reshape(batch_size, -1).transpose(1, 0)\n",
    "            X_col[:, :, (i*out_width+j)] = patch_col\n",
    "                \n",
    "    return X_col.reshape(in_channels*kernel_size*kernel_size, batch_size*out_height*out_width)\n",
    "\n",
    "class ConvLayerIm2col:\n",
    "    def __init__(self, in_channels, out_channels, kernel_size, stride=1, padding=0):\n",
    "        self.in_channels = in_channels\n",
    "        self.out_channels = out_channels\n",
    "        self.kernel_size = kernel_size\n",
    "        self.stride = stride\n",
    "        self.padding = padding\n",
    "        \n",
    "        # Initialize the weights and biases\n",
    "        self.weights = np.ones((out_channels, in_channels, kernel_size, kernel_size))\n",
    "        self.biases = np.zeros((out_channels, 1))\n",
    "        \n",
    "    def forward(self, X):\n",
    "        # Save the input tensor for the backward pass\n",
    "        self.X = X\n",
    "        \n",
    "        # Compute the output tensor using\n",
    "        # the im2col function\n",
    "        X_col = im2col(X, self.kernel_size, self.stride, self.padding)\n",
    "        \n",
    "        # Flatten the weights tensor to perform a matrix multiplication\n",
    "        W_col = self.weights.reshape(self.out_channels, -1)\n",
    "        \n",
    "        # Compute the matrix multiplication and add the biases\n",
    "        out = np.dot(W_col, X_col) + self.biases\n",
    "        \n",
    "        # Reshape the output tensor to the correct shape\n",
    "        batch_size = X.shape[0]\n",
    "        out_height = (X.shape[2] + 2 * self.padding - self.kernel_size) // self.stride + 1\n",
    "        out_width = (X.shape[3] + 2 * self.padding - self.kernel_size) // self.stride + 1\n",
    "        out = out.reshape(self.out_channels, batch_size, out_height, out_width)\n",
    "        out = np.transpose(out, (1, 0, 2, 3))\n",
    "        \n",
    "        return out\n",
    "\n",
    "class ConvLayerFor:\n",
    "    def __init__(self, in_channels, out_channels, kernel_size, stride=1, padding=0):\n",
    "        self.in_channels = in_channels\n",
    "        self.out_channels = out_channels\n",
    "        self.kernel_size = kernel_size\n",
    "        self.stride = stride\n",
    "        self.padding = padding\n",
    "        \n",
    "        # Initialize the weights and biases\n",
    "        self.weights = np.ones((out_channels, in_channels, kernel_size, kernel_size))\n",
    "        self.biases = np.zeros((out_channels, 1))\n",
    "        \n",
    "    def forward(self, X):\n",
    "        # Save the input tensor for the backward pass\n",
    "        padding = self.padding\n",
    "        stride = self.stride\n",
    "        kernel_size = self.kernel_size\n",
    "        out_channels = self.out_channels\n",
    "        batch_size, in_channel, in_height, in_width = X.shape\n",
    "        padded_X = np.pad(X, ((0, 0), (0, 0), (padding, padding), (padding, padding)), mode='constant')\n",
    "        \n",
    "        out_height = (in_height + 2 * padding - kernel_size) // stride + 1\n",
    "        out_width = (in_width + 2 * padding - kernel_size) // stride + 1\n",
    "        \n",
    "        # Compute the output tensor using\n",
    "        # the im2col function\n",
    "        out = np.zeros((batch_size, out_channels, out_height, out_width))\n",
    "        for i in range(out_height):\n",
    "            for j in range(out_width):\n",
    "                patch = padded_X[:, :, i*stride:i*stride+kernel_size, j*stride:j*stride+kernel_size]\n",
    "                out[:, :, i, j] = np.einsum('oihw,bihw->bo', \n",
    "                                            self.weights, \n",
    "                                            patch)\n",
    "        \n",
    "        # Reshape the output tensor to the correct shape\n",
    "        \n",
    "        return out\n"
   ]
  },
  {
   "cell_type": "code",
   "execution_count": 66,
   "metadata": {},
   "outputs": [],
   "source": [
    "conv1 = ConvLayerIm2col(4, 10, 3, padding=1)\n",
    "conv2 = ConvLayerFor(4, 10, 3, padding=1)\n",
    "X = np.ones((4, 4, 5, 5))\n",
    "out1 = conv1.forward(X)\n",
    "out2 = conv2.forward(X)\n",
    "# conv.backward(np.ones((4, 10, 5, 5)))"
   ]
  },
  {
   "cell_type": "code",
   "execution_count": 73,
   "metadata": {},
   "outputs": [
    {
     "data": {
      "text/plain": [
       "array([[16., 24., 24., 24., 16.],\n",
       "       [24., 36., 36., 36., 24.],\n",
       "       [24., 36., 36., 36., 24.],\n",
       "       [24., 36., 36., 36., 24.],\n",
       "       [16., 24., 24., 24., 16.]])"
      ]
     },
     "execution_count": 73,
     "metadata": {},
     "output_type": "execute_result"
    }
   ],
   "source": [
    "out1[0, 0]"
   ]
  },
  {
   "cell_type": "code",
   "execution_count": 74,
   "metadata": {},
   "outputs": [
    {
     "data": {
      "text/plain": [
       "array([[16., 24., 24., 24., 16.],\n",
       "       [24., 36., 36., 36., 24.],\n",
       "       [24., 36., 36., 36., 24.],\n",
       "       [24., 36., 36., 36., 24.],\n",
       "       [16., 24., 24., 24., 16.]])"
      ]
     },
     "execution_count": 74,
     "metadata": {},
     "output_type": "execute_result"
    }
   ],
   "source": [
    "out2[0, 0]"
   ]
  },
  {
   "cell_type": "code",
   "execution_count": 71,
   "metadata": {},
   "outputs": [
    {
     "name": "stdout",
     "output_type": "stream",
     "text": [
      "128 µs ± 7.88 µs per loop (mean ± std. dev. of 7 runs, 10 loops each)\n"
     ]
    }
   ],
   "source": [
    "%timeit -n 10 conv1.forward(X)"
   ]
  },
  {
   "cell_type": "code",
   "execution_count": 72,
   "metadata": {},
   "outputs": [
    {
     "name": "stdout",
     "output_type": "stream",
     "text": [
      "320 µs ± 16.7 µs per loop (mean ± std. dev. of 7 runs, 10 loops each)\n"
     ]
    }
   ],
   "source": [
    "%timeit -n 10 conv2.forward(X)"
   ]
  }
 ],
 "metadata": {
  "kernelspec": {
   "display_name": "base",
   "language": "python",
   "name": "python3"
  },
  "language_info": {
   "codemirror_mode": {
    "name": "ipython",
    "version": 3
   },
   "file_extension": ".py",
   "mimetype": "text/x-python",
   "name": "python",
   "nbconvert_exporter": "python",
   "pygments_lexer": "ipython3",
   "version": "3.9.12"
  },
  "orig_nbformat": 4,
  "vscode": {
   "interpreter": {
    "hash": "99d762d8d3d11e81d8b74146aa8b2bb5f5a02e4cc6b7f2c52cadc16e22537b46"
   }
  }
 },
 "nbformat": 4,
 "nbformat_minor": 2
}
