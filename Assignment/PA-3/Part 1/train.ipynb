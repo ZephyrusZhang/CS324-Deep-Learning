{
 "cells": [
  {
   "cell_type": "code",
   "execution_count": 3,
   "metadata": {
    "collapsed": true
   },
   "outputs": [
    {
     "name": "stdout",
     "output_type": "stream",
     "text": [
      "env: CUDA_VISIBLE_DEVICES=1\n"
     ]
    },
    {
     "ename": "AttributeError",
     "evalue": "'LSTM' object has no attribute 'input_dim'",
     "output_type": "error",
     "traceback": [
      "\u001b[0;31m---------------------------------------------------------------------------\u001b[0m",
      "\u001b[0;31mAttributeError\u001b[0m                            Traceback (most recent call last)",
      "File \u001b[0;32m~/File/Assignment/PA-3/Part 1/train.py:131\u001b[0m\n\u001b[1;32m    127\u001b[0m parser\u001b[39m.\u001b[39madd_argument(\u001b[39m'\u001b[39m\u001b[39m--quiet\u001b[39m\u001b[39m'\u001b[39m, action\u001b[39m=\u001b[39m\u001b[39m'\u001b[39m\u001b[39mstore_true\u001b[39m\u001b[39m'\u001b[39m, help\u001b[39m=\u001b[39m\u001b[39m'\u001b[39m\u001b[39mNo stdout\u001b[39m\u001b[39m'\u001b[39m)\n\u001b[1;32m    129\u001b[0m OPT \u001b[39m=\u001b[39m parser\u001b[39m.\u001b[39mparse_args()\n\u001b[0;32m--> 131\u001b[0m main()\n",
      "File \u001b[0;32m~/File/Assignment/PA-3/Part 1/train.py:109\u001b[0m, in \u001b[0;36mmain\u001b[0;34m()\u001b[0m\n\u001b[1;32m    106\u001b[0m test_dataset \u001b[39m=\u001b[39m PalindromeDataset(OPT\u001b[39m.\u001b[39minput_length \u001b[39m+\u001b[39m \u001b[39m1\u001b[39m)\n\u001b[1;32m    107\u001b[0m test_loader \u001b[39m=\u001b[39m DataLoader(test_dataset, OPT\u001b[39m.\u001b[39mbatch_size)\n\u001b[0;32m--> 109\u001b[0m train(train_loader, test_loader)\n",
      "File \u001b[0;32m~/File/Assignment/PA-3/Part 1/train.py:64\u001b[0m, in \u001b[0;36mtrain\u001b[0;34m(train_loader, test_loader)\u001b[0m\n\u001b[1;32m     61\u001b[0m batch_inputs, batch_targets \u001b[39m=\u001b[39m batch_inputs\u001b[39m.\u001b[39mcuda(), batch_targets\u001b[39m.\u001b[39mcuda()\n\u001b[1;32m     63\u001b[0m optimizer\u001b[39m.\u001b[39mzero_grad()\n\u001b[0;32m---> 64\u001b[0m outputs \u001b[39m=\u001b[39m model(batch_inputs)\n\u001b[1;32m     65\u001b[0m loss \u001b[39m=\u001b[39m criterion(outputs, batch_targets)\n\u001b[1;32m     66\u001b[0m loss\u001b[39m.\u001b[39mbackward()\n",
      "File \u001b[0;32m~/anaconda3/envs/PyTorch-2.0/lib/python3.10/site-packages/torch/nn/modules/module.py:1501\u001b[0m, in \u001b[0;36mModule._call_impl\u001b[0;34m(self, *args, **kwargs)\u001b[0m\n\u001b[1;32m   1496\u001b[0m \u001b[39m# If we don't have any hooks, we want to skip the rest of the logic in\u001b[39;00m\n\u001b[1;32m   1497\u001b[0m \u001b[39m# this function, and just call forward.\u001b[39;00m\n\u001b[1;32m   1498\u001b[0m \u001b[39mif\u001b[39;00m \u001b[39mnot\u001b[39;00m (\u001b[39mself\u001b[39m\u001b[39m.\u001b[39m_backward_hooks \u001b[39mor\u001b[39;00m \u001b[39mself\u001b[39m\u001b[39m.\u001b[39m_backward_pre_hooks \u001b[39mor\u001b[39;00m \u001b[39mself\u001b[39m\u001b[39m.\u001b[39m_forward_hooks \u001b[39mor\u001b[39;00m \u001b[39mself\u001b[39m\u001b[39m.\u001b[39m_forward_pre_hooks\n\u001b[1;32m   1499\u001b[0m         \u001b[39mor\u001b[39;00m _global_backward_pre_hooks \u001b[39mor\u001b[39;00m _global_backward_hooks\n\u001b[1;32m   1500\u001b[0m         \u001b[39mor\u001b[39;00m _global_forward_hooks \u001b[39mor\u001b[39;00m _global_forward_pre_hooks):\n\u001b[0;32m-> 1501\u001b[0m     \u001b[39mreturn\u001b[39;00m forward_call(\u001b[39m*\u001b[39;49margs, \u001b[39m*\u001b[39;49m\u001b[39m*\u001b[39;49mkwargs)\n\u001b[1;32m   1502\u001b[0m \u001b[39m# Do not call functions when jit is used\u001b[39;00m\n\u001b[1;32m   1503\u001b[0m full_backward_hooks, non_full_backward_hooks \u001b[39m=\u001b[39m [], []\n",
      "File \u001b[0;32m~/File/Assignment/PA-3/Part 1/lstm.py:29\u001b[0m, in \u001b[0;36mLSTM.forward\u001b[0;34m(self, x)\u001b[0m\n\u001b[1;32m     26\u001b[0m \u001b[39mdef\u001b[39;00m \u001b[39mforward\u001b[39m(\u001b[39mself\u001b[39m, x):\n\u001b[1;32m     27\u001b[0m     \u001b[39m# Implementation here ...\u001b[39;00m\n\u001b[1;32m     28\u001b[0m     batch_size, seq_length \u001b[39m=\u001b[39m x\u001b[39m.\u001b[39msize(\u001b[39m0\u001b[39m), x\u001b[39m.\u001b[39msize(\u001b[39m1\u001b[39m)\n\u001b[0;32m---> 29\u001b[0m     x \u001b[39m=\u001b[39m x\u001b[39m.\u001b[39mview(batch_size, seq_length, \u001b[39mself\u001b[39;49m\u001b[39m.\u001b[39;49minput_dim)\n\u001b[1;32m     30\u001b[0m     h_t \u001b[39m=\u001b[39m torch\u001b[39m.\u001b[39mzeros(batch_size, \u001b[39mself\u001b[39m\u001b[39m.\u001b[39mhidden_dim)\u001b[39m.\u001b[39mcuda()\n\u001b[1;32m     31\u001b[0m     c_t \u001b[39m=\u001b[39m torch\u001b[39m.\u001b[39mzeros(batch_size, \u001b[39mself\u001b[39m\u001b[39m.\u001b[39mhidden_dim)\u001b[39m.\u001b[39mcuda()\n",
      "File \u001b[0;32m~/anaconda3/envs/PyTorch-2.0/lib/python3.10/site-packages/torch/nn/modules/module.py:1614\u001b[0m, in \u001b[0;36mModule.__getattr__\u001b[0;34m(self, name)\u001b[0m\n\u001b[1;32m   1612\u001b[0m     \u001b[39mif\u001b[39;00m name \u001b[39min\u001b[39;00m modules:\n\u001b[1;32m   1613\u001b[0m         \u001b[39mreturn\u001b[39;00m modules[name]\n\u001b[0;32m-> 1614\u001b[0m \u001b[39mraise\u001b[39;00m \u001b[39mAttributeError\u001b[39;00m(\u001b[39m\"\u001b[39m\u001b[39m'\u001b[39m\u001b[39m{}\u001b[39;00m\u001b[39m'\u001b[39m\u001b[39m object has no attribute \u001b[39m\u001b[39m'\u001b[39m\u001b[39m{}\u001b[39;00m\u001b[39m'\u001b[39m\u001b[39m\"\u001b[39m\u001b[39m.\u001b[39mformat(\n\u001b[1;32m   1615\u001b[0m     \u001b[39mtype\u001b[39m(\u001b[39mself\u001b[39m)\u001b[39m.\u001b[39m\u001b[39m__name__\u001b[39m, name))\n",
      "\u001b[0;31mAttributeError\u001b[0m: 'LSTM' object has no attribute 'input_dim'"
     ]
    }
   ],
   "source": [
    "%env CUDA_VISIBLE_DEVICES=1\n",
    "%run train.py --input_length 5 --train_steps 2000"
   ]
  }
 ],
 "metadata": {
  "kernelspec": {
   "display_name": "Python 3",
   "language": "python",
   "name": "python3"
  },
  "language_info": {
   "codemirror_mode": {
    "name": "ipython",
    "version": 3
   },
   "file_extension": ".py",
   "mimetype": "text/x-python",
   "name": "python",
   "nbconvert_exporter": "python",
   "pygments_lexer": "ipython3",
   "version": "3.10.10"
  }
 },
 "nbformat": 4,
 "nbformat_minor": 0
}
