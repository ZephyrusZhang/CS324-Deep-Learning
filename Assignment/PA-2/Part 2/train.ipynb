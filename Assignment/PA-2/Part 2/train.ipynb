{
 "cells": [
  {
   "cell_type": "code",
   "execution_count": 4,
   "metadata": {
    "collapsed": true
   },
   "outputs": [
    {
     "name": "stdout",
     "output_type": "stream",
     "text": [
      "Files already downloaded and verified\n",
      "Files already downloaded and verified\n",
      "CNN(\n",
      "  (conv_layers): Sequential(\n",
      "    (0): ConvBNReLU(\n",
      "      (model): Sequential(\n",
      "        (0): Conv2d(3, 64, kernel_size=(3, 3), stride=(1, 1), padding=(1, 1))\n",
      "        (1): BatchNorm2d(64, eps=1e-05, momentum=0.1, affine=True, track_running_stats=True)\n",
      "        (2): ReLU(inplace=True)\n",
      "      )\n",
      "    )\n",
      "    (1): MaxPool2d(kernel_size=3, stride=2, padding=1, dilation=1, ceil_mode=False)\n",
      "    (2): ConvBNReLU(\n",
      "      (model): Sequential(\n",
      "        (0): Conv2d(64, 128, kernel_size=(3, 3), stride=(1, 1), padding=(1, 1))\n",
      "        (1): BatchNorm2d(128, eps=1e-05, momentum=0.1, affine=True, track_running_stats=True)\n",
      "        (2): ReLU(inplace=True)\n",
      "      )\n",
      "    )\n",
      "    (3): MaxPool2d(kernel_size=3, stride=2, padding=1, dilation=1, ceil_mode=False)\n",
      "    (4): ConvBNReLU(\n",
      "      (model): Sequential(\n",
      "        (0): Conv2d(128, 256, kernel_size=(3, 3), stride=(1, 1), padding=(1, 1))\n",
      "        (1): BatchNorm2d(256, eps=1e-05, momentum=0.1, affine=True, track_running_stats=True)\n",
      "        (2): ReLU(inplace=True)\n",
      "      )\n",
      "    )\n",
      "    (5): ConvBNReLU(\n",
      "      (model): Sequential(\n",
      "        (0): Conv2d(256, 256, kernel_size=(3, 3), stride=(1, 1), padding=(1, 1))\n",
      "        (1): BatchNorm2d(256, eps=1e-05, momentum=0.1, affine=True, track_running_stats=True)\n",
      "        (2): ReLU(inplace=True)\n",
      "      )\n",
      "    )\n",
      "    (6): MaxPool2d(kernel_size=3, stride=2, padding=1, dilation=1, ceil_mode=False)\n",
      "    (7): ConvBNReLU(\n",
      "      (model): Sequential(\n",
      "        (0): Conv2d(256, 512, kernel_size=(3, 3), stride=(1, 1), padding=(1, 1))\n",
      "        (1): BatchNorm2d(512, eps=1e-05, momentum=0.1, affine=True, track_running_stats=True)\n",
      "        (2): ReLU(inplace=True)\n",
      "      )\n",
      "    )\n",
      "    (8): ConvBNReLU(\n",
      "      (model): Sequential(\n",
      "        (0): Conv2d(512, 512, kernel_size=(3, 3), stride=(1, 1), padding=(1, 1))\n",
      "        (1): BatchNorm2d(512, eps=1e-05, momentum=0.1, affine=True, track_running_stats=True)\n",
      "        (2): ReLU(inplace=True)\n",
      "      )\n",
      "    )\n",
      "    (9): MaxPool2d(kernel_size=3, stride=2, padding=1, dilation=1, ceil_mode=False)\n",
      "    (10): ConvBNReLU(\n",
      "      (model): Sequential(\n",
      "        (0): Conv2d(512, 512, kernel_size=(3, 3), stride=(1, 1), padding=(1, 1))\n",
      "        (1): BatchNorm2d(512, eps=1e-05, momentum=0.1, affine=True, track_running_stats=True)\n",
      "        (2): ReLU(inplace=True)\n",
      "      )\n",
      "    )\n",
      "    (11): ConvBNReLU(\n",
      "      (model): Sequential(\n",
      "        (0): Conv2d(512, 512, kernel_size=(3, 3), stride=(1, 1), padding=(1, 1))\n",
      "        (1): BatchNorm2d(512, eps=1e-05, momentum=0.1, affine=True, track_running_stats=True)\n",
      "        (2): ReLU(inplace=True)\n",
      "      )\n",
      "    )\n",
      "    (12): MaxPool2d(kernel_size=3, stride=2, padding=1, dilation=1, ceil_mode=False)\n",
      "  )\n",
      "  (fc): Sequential(\n",
      "    (0): Linear(in_features=512, out_features=10, bias=True)\n",
      "    (1): Softmax(dim=1)\n",
      "  )\n",
      ")\n",
      "2023-04-02 17:08:05.122262: Epoch 0\t\tTrain Accuracy: 0.639 \t Train Loss: 1.931\tTest Accuracy: 0.691 \t Test Loss: 1.835\n",
      "2023-04-02 17:08:47.325895: Epoch 1\t\tTrain Accuracy: 0.715 \t Train Loss: 1.788\tTest Accuracy: 0.752 \t Test Loss: 1.769\n",
      "2023-04-02 17:09:30.310240: Epoch 2\t\tTrain Accuracy: 0.758 \t Train Loss: 1.732\tTest Accuracy: 0.788 \t Test Loss: 1.725\n",
      "2023-04-02 17:10:12.949547: Epoch 3\t\tTrain Accuracy: 0.804 \t Train Loss: 1.695\tTest Accuracy: 0.814 \t Test Loss: 1.678\n",
      "2023-04-02 17:10:55.610550: Epoch 4\t\tTrain Accuracy: 0.813 \t Train Loss: 1.671\tTest Accuracy: 0.818 \t Test Loss: 1.666\n",
      "2023-04-02 17:11:38.294460: Epoch 5\t\tTrain Accuracy: 0.843 \t Train Loss: 1.662\tTest Accuracy: 0.844 \t Test Loss: 1.636\n",
      "2023-04-02 17:12:22.013263: Epoch 6\t\tTrain Accuracy: 0.852 \t Train Loss: 1.638\tTest Accuracy: 0.866 \t Test Loss: 1.629\n",
      "2023-04-02 17:13:05.940023: Epoch 7\t\tTrain Accuracy: 0.872 \t Train Loss: 1.615\tTest Accuracy: 0.887 \t Test Loss: 1.609\n",
      "2023-04-02 17:13:50.058397: Epoch 8\t\tTrain Accuracy: 0.883 \t Train Loss: 1.601\tTest Accuracy: 0.885 \t Test Loss: 1.600\n",
      "2023-04-02 17:14:34.046273: Epoch 9\t\tTrain Accuracy: 0.892 \t Train Loss: 1.610\tTest Accuracy: 0.904 \t Test Loss: 1.589\n",
      "2023-04-02 17:15:18.082367: Epoch 10\t\tTrain Accuracy: 0.899 \t Train Loss: 1.580\tTest Accuracy: 0.903 \t Test Loss: 1.578\n",
      "2023-04-02 17:16:02.065626: Epoch 11\t\tTrain Accuracy: 0.905 \t Train Loss: 1.572\tTest Accuracy: 0.916 \t Test Loss: 1.567\n",
      "2023-04-02 17:16:45.006957: Epoch 12\t\tTrain Accuracy: 0.916 \t Train Loss: 1.560\tTest Accuracy: 0.917 \t Test Loss: 1.563\n",
      "2023-04-02 17:17:28.104015: Epoch 13\t\tTrain Accuracy: 0.916 \t Train Loss: 1.563\tTest Accuracy: 0.921 \t Test Loss: 1.557\n",
      "2023-04-02 17:18:10.712228: Epoch 14\t\tTrain Accuracy: 0.916 \t Train Loss: 1.548\tTest Accuracy: 0.932 \t Test Loss: 1.555\n",
      "2023-04-02 17:18:53.275358: Epoch 15\t\tTrain Accuracy: 0.929 \t Train Loss: 1.547\tTest Accuracy: 0.931 \t Test Loss: 1.547\n",
      "2023-04-02 17:19:35.742724: Epoch 16\t\tTrain Accuracy: 0.933 \t Train Loss: 1.556\tTest Accuracy: 0.934 \t Test Loss: 1.540\n",
      "2023-04-02 17:20:19.327731: Epoch 17\t\tTrain Accuracy: 0.932 \t Train Loss: 1.535\tTest Accuracy: 0.939 \t Test Loss: 1.539\n",
      "2023-04-02 17:21:02.256482: Epoch 18\t\tTrain Accuracy: 0.937 \t Train Loss: 1.531\tTest Accuracy: 0.933 \t Test Loss: 1.534\n",
      "2023-04-02 17:21:45.045672: Epoch 19\t\tTrain Accuracy: 0.939 \t Train Loss: 1.546\tTest Accuracy: 0.941 \t Test Loss: 1.533\n",
      "2023-04-02 17:22:27.971713: Epoch 20\t\tTrain Accuracy: 0.946 \t Train Loss: 1.526\tTest Accuracy: 0.947 \t Test Loss: 1.526\n",
      "2023-04-02 17:23:10.898209: Epoch 21\t\tTrain Accuracy: 0.948 \t Train Loss: 1.527\tTest Accuracy: 0.946 \t Test Loss: 1.526\n",
      "2023-04-02 17:23:53.774436: Epoch 22\t\tTrain Accuracy: 0.951 \t Train Loss: 1.527\tTest Accuracy: 0.949 \t Test Loss: 1.520\n",
      "2023-04-02 17:24:36.607334: Epoch 23\t\tTrain Accuracy: 0.946 \t Train Loss: 1.521\tTest Accuracy: 0.951 \t Test Loss: 1.525\n",
      "2023-04-02 17:25:19.643415: Epoch 24\t\tTrain Accuracy: 0.951 \t Train Loss: 1.519\tTest Accuracy: 0.950 \t Test Loss: 1.521\n",
      "2023-04-02 17:26:02.400101: Epoch 25\t\tTrain Accuracy: 0.954 \t Train Loss: 1.521\tTest Accuracy: 0.949 \t Test Loss: 1.526\n",
      "2023-04-02 17:26:45.898870: Epoch 26\t\tTrain Accuracy: 0.958 \t Train Loss: 1.513\tTest Accuracy: 0.954 \t Test Loss: 1.512\n",
      "2023-04-02 17:27:29.196628: Epoch 27\t\tTrain Accuracy: 0.960 \t Train Loss: 1.506\tTest Accuracy: 0.955 \t Test Loss: 1.513\n",
      "2023-04-02 17:28:13.506122: Epoch 28\t\tTrain Accuracy: 0.957 \t Train Loss: 1.507\tTest Accuracy: 0.953 \t Test Loss: 1.520\n",
      "2023-04-02 17:28:57.285096: Epoch 29\t\tTrain Accuracy: 0.959 \t Train Loss: 1.509\tTest Accuracy: 0.953 \t Test Loss: 1.512\n",
      "2023-04-02 17:29:40.901510: Epoch 30\t\tTrain Accuracy: 0.954 \t Train Loss: 1.521\tTest Accuracy: 0.952 \t Test Loss: 1.517\n",
      "2023-04-02 17:30:24.306208: Epoch 31\t\tTrain Accuracy: 0.959 \t Train Loss: 1.513\tTest Accuracy: 0.961 \t Test Loss: 1.507\n",
      "2023-04-02 17:31:07.470974: Epoch 32\t\tTrain Accuracy: 0.962 \t Train Loss: 1.502\tTest Accuracy: 0.963 \t Test Loss: 1.509\n"
     ]
    },
    {
     "ename": "KeyboardInterrupt",
     "evalue": "",
     "output_type": "error",
     "traceback": [
      "\u001B[1;31m---------------------------------------------------------------------------\u001B[0m",
      "\u001B[1;31mKeyboardInterrupt\u001B[0m                         Traceback (most recent call last)",
      "\u001B[1;32mD:\\File\\Project\\Pycharm\\CS324-Deep-Learning\\Assignment\\PA-2\\Part 2\\cnn_train.py\u001B[0m in \u001B[0;36m<module>\u001B[1;34m\u001B[0m\n\u001B[0;32m    131\u001B[0m     \u001B[0mFLAGS\u001B[0m\u001B[1;33m,\u001B[0m \u001B[0munparsed\u001B[0m \u001B[1;33m=\u001B[0m \u001B[0mparser\u001B[0m\u001B[1;33m.\u001B[0m\u001B[0mparse_known_args\u001B[0m\u001B[1;33m(\u001B[0m\u001B[1;33m)\u001B[0m\u001B[1;33m\u001B[0m\u001B[1;33m\u001B[0m\u001B[0m\n\u001B[0;32m    132\u001B[0m \u001B[1;33m\u001B[0m\u001B[0m\n\u001B[1;32m--> 133\u001B[1;33m     \u001B[0mmain\u001B[0m\u001B[1;33m(\u001B[0m\u001B[0mFLAGS\u001B[0m\u001B[1;33m)\u001B[0m\u001B[1;33m\u001B[0m\u001B[1;33m\u001B[0m\u001B[0m\n\u001B[0m",
      "\u001B[1;32mD:\\File\\Project\\Pycharm\\CS324-Deep-Learning\\Assignment\\PA-2\\Part 2\\cnn_train.py\u001B[0m in \u001B[0;36mmain\u001B[1;34m(opt)\u001B[0m\n\u001B[0;32m    113\u001B[0m     \u001B[0mtest_loader\u001B[0m \u001B[1;33m=\u001B[0m \u001B[0mDataLoader\u001B[0m\u001B[1;33m(\u001B[0m\u001B[0mtest_dataset\u001B[0m\u001B[1;33m,\u001B[0m \u001B[0mbatch_size\u001B[0m\u001B[1;33m=\u001B[0m\u001B[0mopt\u001B[0m\u001B[1;33m.\u001B[0m\u001B[0mbatch_size\u001B[0m\u001B[1;33m,\u001B[0m \u001B[0mshuffle\u001B[0m\u001B[1;33m=\u001B[0m\u001B[1;32mTrue\u001B[0m\u001B[1;33m)\u001B[0m\u001B[1;33m\u001B[0m\u001B[1;33m\u001B[0m\u001B[0m\n\u001B[0;32m    114\u001B[0m \u001B[1;33m\u001B[0m\u001B[0m\n\u001B[1;32m--> 115\u001B[1;33m     \u001B[0mtrain\u001B[0m\u001B[1;33m(\u001B[0m\u001B[0mopt\u001B[0m\u001B[1;33m,\u001B[0m \u001B[0mtrain_loader\u001B[0m\u001B[1;33m,\u001B[0m \u001B[0mtest_loader\u001B[0m\u001B[1;33m)\u001B[0m\u001B[1;33m\u001B[0m\u001B[1;33m\u001B[0m\u001B[0m\n\u001B[0m\u001B[0;32m    116\u001B[0m \u001B[1;33m\u001B[0m\u001B[0m\n\u001B[0;32m    117\u001B[0m \u001B[1;33m\u001B[0m\u001B[0m\n",
      "\u001B[1;32mD:\\File\\Project\\Pycharm\\CS324-Deep-Learning\\Assignment\\PA-2\\Part 2\\cnn_train.py\u001B[0m in \u001B[0;36mtrain\u001B[1;34m(opt, train_loader, test_loader)\u001B[0m\n\u001B[0;32m     81\u001B[0m             \u001B[0moptimizer\u001B[0m\u001B[1;33m.\u001B[0m\u001B[0mstep\u001B[0m\u001B[1;33m(\u001B[0m\u001B[1;33m)\u001B[0m\u001B[1;33m\u001B[0m\u001B[1;33m\u001B[0m\u001B[0m\n\u001B[0;32m     82\u001B[0m \u001B[1;33m\u001B[0m\u001B[0m\n\u001B[1;32m---> 83\u001B[1;33m             \u001B[0mrunning_loss\u001B[0m \u001B[1;33m+=\u001B[0m \u001B[0mloss\u001B[0m\u001B[1;33m.\u001B[0m\u001B[0mitem\u001B[0m\u001B[1;33m(\u001B[0m\u001B[1;33m)\u001B[0m\u001B[1;33m\u001B[0m\u001B[1;33m\u001B[0m\u001B[0m\n\u001B[0m\u001B[0;32m     84\u001B[0m \u001B[1;33m\u001B[0m\u001B[0m\n\u001B[0;32m     85\u001B[0m         \u001B[1;32mif\u001B[0m \u001B[0mepoch\u001B[0m \u001B[1;33m%\u001B[0m \u001B[0mopt\u001B[0m\u001B[1;33m.\u001B[0m\u001B[0meval_freq\u001B[0m \u001B[1;33m==\u001B[0m \u001B[1;36m0\u001B[0m\u001B[1;33m:\u001B[0m\u001B[1;33m\u001B[0m\u001B[1;33m\u001B[0m\u001B[0m\n",
      "\u001B[1;31mKeyboardInterrupt\u001B[0m: "
     ]
    }
   ],
   "source": [
    "%run cnn_train.py"
   ]
  },
  {
   "cell_type": "code",
   "execution_count": null,
   "outputs": [],
   "source": [],
   "metadata": {
    "collapsed": false
   }
  }
 ],
 "metadata": {
  "kernelspec": {
   "display_name": "Python 3",
   "language": "python",
   "name": "python3"
  },
  "language_info": {
   "codemirror_mode": {
    "name": "ipython",
    "version": 2
   },
   "file_extension": ".py",
   "mimetype": "text/x-python",
   "name": "python",
   "nbconvert_exporter": "python",
   "pygments_lexer": "ipython2",
   "version": "2.7.6"
  }
 },
 "nbformat": 4,
 "nbformat_minor": 0
}
