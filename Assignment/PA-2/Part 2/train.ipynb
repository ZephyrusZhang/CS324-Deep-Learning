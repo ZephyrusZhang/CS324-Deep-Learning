{
 "cells": [
  {
   "cell_type": "markdown",
   "source": [
    "## Optimizer Comparison\n",
    "\n",
    "### Adam optimizer"
   ],
   "metadata": {
    "collapsed": false
   }
  },
  {
   "cell_type": "code",
   "execution_count": 3,
   "outputs": [
    {
     "name": "stdout",
     "output_type": "stream",
     "text": [
      "Files already downloaded and verified\n",
      "Files already downloaded and verified\n",
      "CNN(\n",
      "  (conv_layers): Sequential(\n",
      "    (0): ConvBNReLU(\n",
      "      (model): Sequential(\n",
      "        (0): Conv2d(3, 64, kernel_size=(3, 3), stride=(1, 1), padding=(1, 1))\n",
      "        (1): BatchNorm2d(64, eps=1e-05, momentum=0.1, affine=True, track_running_stats=True)\n",
      "        (2): ReLU(inplace=True)\n",
      "      )\n",
      "    )\n",
      "    (1): MaxPool2d(kernel_size=3, stride=2, padding=1, dilation=1, ceil_mode=False)\n",
      "    (2): ConvBNReLU(\n",
      "      (model): Sequential(\n",
      "        (0): Conv2d(64, 128, kernel_size=(3, 3), stride=(1, 1), padding=(1, 1))\n",
      "        (1): BatchNorm2d(128, eps=1e-05, momentum=0.1, affine=True, track_running_stats=True)\n",
      "        (2): ReLU(inplace=True)\n",
      "      )\n",
      "    )\n",
      "    (3): MaxPool2d(kernel_size=3, stride=2, padding=1, dilation=1, ceil_mode=False)\n",
      "    (4): ConvBNReLU(\n",
      "      (model): Sequential(\n",
      "        (0): Conv2d(128, 256, kernel_size=(3, 3), stride=(1, 1), padding=(1, 1))\n",
      "        (1): BatchNorm2d(256, eps=1e-05, momentum=0.1, affine=True, track_running_stats=True)\n",
      "        (2): ReLU(inplace=True)\n",
      "      )\n",
      "    )\n",
      "    (5): ConvBNReLU(\n",
      "      (model): Sequential(\n",
      "        (0): Conv2d(256, 256, kernel_size=(3, 3), stride=(1, 1), padding=(1, 1))\n",
      "        (1): BatchNorm2d(256, eps=1e-05, momentum=0.1, affine=True, track_running_stats=True)\n",
      "        (2): ReLU(inplace=True)\n",
      "      )\n",
      "    )\n",
      "    (6): MaxPool2d(kernel_size=3, stride=2, padding=1, dilation=1, ceil_mode=False)\n",
      "    (7): ConvBNReLU(\n",
      "      (model): Sequential(\n",
      "        (0): Conv2d(256, 512, kernel_size=(3, 3), stride=(1, 1), padding=(1, 1))\n",
      "        (1): BatchNorm2d(512, eps=1e-05, momentum=0.1, affine=True, track_running_stats=True)\n",
      "        (2): ReLU(inplace=True)\n",
      "      )\n",
      "    )\n",
      "    (8): ConvBNReLU(\n",
      "      (model): Sequential(\n",
      "        (0): Conv2d(512, 512, kernel_size=(3, 3), stride=(1, 1), padding=(1, 1))\n",
      "        (1): BatchNorm2d(512, eps=1e-05, momentum=0.1, affine=True, track_running_stats=True)\n",
      "        (2): ReLU(inplace=True)\n",
      "      )\n",
      "    )\n",
      "    (9): MaxPool2d(kernel_size=3, stride=2, padding=1, dilation=1, ceil_mode=False)\n",
      "    (10): ConvBNReLU(\n",
      "      (model): Sequential(\n",
      "        (0): Conv2d(512, 512, kernel_size=(3, 3), stride=(1, 1), padding=(1, 1))\n",
      "        (1): BatchNorm2d(512, eps=1e-05, momentum=0.1, affine=True, track_running_stats=True)\n",
      "        (2): ReLU(inplace=True)\n",
      "      )\n",
      "    )\n",
      "    (11): ConvBNReLU(\n",
      "      (model): Sequential(\n",
      "        (0): Conv2d(512, 512, kernel_size=(3, 3), stride=(1, 1), padding=(1, 1))\n",
      "        (1): BatchNorm2d(512, eps=1e-05, momentum=0.1, affine=True, track_running_stats=True)\n",
      "        (2): ReLU(inplace=True)\n",
      "      )\n",
      "    )\n",
      "    (12): MaxPool2d(kernel_size=3, stride=2, padding=1, dilation=1, ceil_mode=False)\n",
      "  )\n",
      "  (fc): Sequential(\n",
      "    (0): Linear(in_features=512, out_features=10, bias=True)\n",
      "    (1): Softmax(dim=1)\n",
      "  )\n",
      ")\n",
      "Epoch 0\n",
      "Train Accuracy: 0.518\tTrain Loss: 1.942\tTest Accuracy: 0.609\tTest Loss: 1.856\tAvg Time Cost: 15.335s\n",
      "Epoch 1\n",
      "Train Accuracy: 0.651\tTrain Loss: 1.809\tTest Accuracy: 0.674\tTest Loss: 1.789\tAvg Time Cost: 15.055s\n",
      "Epoch 2\n",
      "Train Accuracy: 0.707\tTrain Loss: 1.753\tTest Accuracy: 0.695\tTest Loss: 1.765\tAvg Time Cost: 14.980s\n",
      "Epoch 3\n",
      "Train Accuracy: 0.745\tTrain Loss: 1.717\tTest Accuracy: 0.725\tTest Loss: 1.735\tAvg Time Cost: 14.971s\n",
      "Epoch 4\n",
      "Train Accuracy: 0.769\tTrain Loss: 1.692\tTest Accuracy: 0.732\tTest Loss: 1.731\tAvg Time Cost: 14.929s\n",
      "Epoch 5\n",
      "Train Accuracy: 0.794\tTrain Loss: 1.668\tTest Accuracy: 0.755\tTest Loss: 1.707\tAvg Time Cost: 14.909s\n",
      "Epoch 6\n",
      "Train Accuracy: 0.813\tTrain Loss: 1.649\tTest Accuracy: 0.758\tTest Loss: 1.701\tAvg Time Cost: 14.918s\n",
      "Epoch 7\n",
      "Train Accuracy: 0.831\tTrain Loss: 1.632\tTest Accuracy: 0.757\tTest Loss: 1.703\tAvg Time Cost: 14.904s\n",
      "Epoch 8\n",
      "Train Accuracy: 0.842\tTrain Loss: 1.620\tTest Accuracy: 0.779\tTest Loss: 1.681\tAvg Time Cost: 14.895s\n",
      "Epoch 9\n",
      "Train Accuracy: 0.857\tTrain Loss: 1.605\tTest Accuracy: 0.774\tTest Loss: 1.687\tAvg Time Cost: 14.884s\n",
      "Epoch 10\n",
      "Train Accuracy: 0.866\tTrain Loss: 1.595\tTest Accuracy: 0.778\tTest Loss: 1.684\tAvg Time Cost: 14.877s\n",
      "Epoch 11\n",
      "Train Accuracy: 0.875\tTrain Loss: 1.587\tTest Accuracy: 0.789\tTest Loss: 1.673\tAvg Time Cost: 14.877s\n",
      "Epoch 12\n",
      "Train Accuracy: 0.884\tTrain Loss: 1.578\tTest Accuracy: 0.790\tTest Loss: 1.672\tAvg Time Cost: 14.870s\n",
      "Epoch 13\n",
      "Train Accuracy: 0.891\tTrain Loss: 1.571\tTest Accuracy: 0.786\tTest Loss: 1.673\tAvg Time Cost: 14.868s\n",
      "Epoch 14\n",
      "Train Accuracy: 0.897\tTrain Loss: 1.566\tTest Accuracy: 0.787\tTest Loss: 1.674\tAvg Time Cost: 14.902s\n",
      "Epoch 15\n",
      "Train Accuracy: 0.904\tTrain Loss: 1.558\tTest Accuracy: 0.788\tTest Loss: 1.671\tAvg Time Cost: 14.897s\n",
      "Epoch 16\n",
      "Train Accuracy: 0.910\tTrain Loss: 1.552\tTest Accuracy: 0.789\tTest Loss: 1.672\tAvg Time Cost: 14.911s\n",
      "Epoch 17\n",
      "Train Accuracy: 0.913\tTrain Loss: 1.549\tTest Accuracy: 0.795\tTest Loss: 1.666\tAvg Time Cost: 14.931s\n",
      "Epoch 18\n",
      "Train Accuracy: 0.919\tTrain Loss: 1.543\tTest Accuracy: 0.803\tTest Loss: 1.659\tAvg Time Cost: 14.929s\n",
      "Epoch 19\n",
      "Train Accuracy: 0.919\tTrain Loss: 1.543\tTest Accuracy: 0.798\tTest Loss: 1.662\tAvg Time Cost: 14.922s\n",
      "Epoch 20\n",
      "Train Accuracy: 0.923\tTrain Loss: 1.539\tTest Accuracy: 0.798\tTest Loss: 1.663\tAvg Time Cost: 14.915s\n",
      "Epoch 21\n",
      "Train Accuracy: 0.931\tTrain Loss: 1.531\tTest Accuracy: 0.800\tTest Loss: 1.660\tAvg Time Cost: 14.920s\n",
      "Epoch 22\n",
      "Train Accuracy: 0.930\tTrain Loss: 1.532\tTest Accuracy: 0.796\tTest Loss: 1.664\tAvg Time Cost: 14.916s\n",
      "Epoch 23\n",
      "Train Accuracy: 0.933\tTrain Loss: 1.529\tTest Accuracy: 0.806\tTest Loss: 1.657\tAvg Time Cost: 14.925s\n",
      "Epoch 24\n",
      "Train Accuracy: 0.936\tTrain Loss: 1.526\tTest Accuracy: 0.800\tTest Loss: 1.661\tAvg Time Cost: 14.916s\n",
      "Epoch 25\n",
      "Train Accuracy: 0.937\tTrain Loss: 1.524\tTest Accuracy: 0.810\tTest Loss: 1.651\tAvg Time Cost: 14.919s\n",
      "Epoch 26\n",
      "Train Accuracy: 0.943\tTrain Loss: 1.519\tTest Accuracy: 0.807\tTest Loss: 1.653\tAvg Time Cost: 14.931s\n",
      "Epoch 27\n",
      "Train Accuracy: 0.943\tTrain Loss: 1.519\tTest Accuracy: 0.798\tTest Loss: 1.662\tAvg Time Cost: 14.928s\n",
      "Epoch 28\n",
      "Train Accuracy: 0.943\tTrain Loss: 1.519\tTest Accuracy: 0.808\tTest Loss: 1.653\tAvg Time Cost: 14.928s\n",
      "Epoch 29\n",
      "Train Accuracy: 0.946\tTrain Loss: 1.516\tTest Accuracy: 0.808\tTest Loss: 1.653\tAvg Time Cost: 14.923s\n",
      "Epoch 30\n",
      "Train Accuracy: 0.949\tTrain Loss: 1.513\tTest Accuracy: 0.809\tTest Loss: 1.650\tAvg Time Cost: 14.916s\n",
      "Epoch 31\n",
      "Train Accuracy: 0.949\tTrain Loss: 1.513\tTest Accuracy: 0.808\tTest Loss: 1.652\tAvg Time Cost: 14.912s\n",
      "Epoch 32\n",
      "Train Accuracy: 0.952\tTrain Loss: 1.510\tTest Accuracy: 0.816\tTest Loss: 1.644\tAvg Time Cost: 14.914s\n",
      "Epoch 33\n",
      "Train Accuracy: 0.954\tTrain Loss: 1.507\tTest Accuracy: 0.803\tTest Loss: 1.656\tAvg Time Cost: 14.907s\n",
      "Epoch 34\n",
      "Train Accuracy: 0.954\tTrain Loss: 1.508\tTest Accuracy: 0.807\tTest Loss: 1.655\tAvg Time Cost: 14.910s\n",
      "Epoch 35\n",
      "Train Accuracy: 0.955\tTrain Loss: 1.506\tTest Accuracy: 0.810\tTest Loss: 1.652\tAvg Time Cost: 14.916s\n",
      "Epoch 36\n",
      "Train Accuracy: 0.958\tTrain Loss: 1.504\tTest Accuracy: 0.807\tTest Loss: 1.654\tAvg Time Cost: 14.914s\n",
      "Epoch 37\n",
      "Train Accuracy: 0.956\tTrain Loss: 1.506\tTest Accuracy: 0.812\tTest Loss: 1.646\tAvg Time Cost: 14.911s\n",
      "Epoch 38\n",
      "Train Accuracy: 0.958\tTrain Loss: 1.504\tTest Accuracy: 0.817\tTest Loss: 1.642\tAvg Time Cost: 14.917s\n",
      "Epoch 39\n",
      "Train Accuracy: 0.959\tTrain Loss: 1.503\tTest Accuracy: 0.816\tTest Loss: 1.644\tAvg Time Cost: 14.916s\n",
      "Epoch 40\n",
      "Train Accuracy: 0.960\tTrain Loss: 1.502\tTest Accuracy: 0.811\tTest Loss: 1.648\tAvg Time Cost: 14.914s\n",
      "Epoch 41\n",
      "Train Accuracy: 0.959\tTrain Loss: 1.502\tTest Accuracy: 0.812\tTest Loss: 1.647\tAvg Time Cost: 14.914s\n",
      "Epoch 42\n",
      "Train Accuracy: 0.962\tTrain Loss: 1.500\tTest Accuracy: 0.815\tTest Loss: 1.645\tAvg Time Cost: 14.910s\n",
      "Epoch 43\n",
      "Train Accuracy: 0.964\tTrain Loss: 1.498\tTest Accuracy: 0.822\tTest Loss: 1.640\tAvg Time Cost: 14.909s\n",
      "Epoch 44\n",
      "Train Accuracy: 0.966\tTrain Loss: 1.496\tTest Accuracy: 0.818\tTest Loss: 1.643\tAvg Time Cost: 14.910s\n",
      "Epoch 45\n",
      "Train Accuracy: 0.963\tTrain Loss: 1.498\tTest Accuracy: 0.810\tTest Loss: 1.647\tAvg Time Cost: 14.909s\n",
      "Epoch 46\n",
      "Train Accuracy: 0.965\tTrain Loss: 1.496\tTest Accuracy: 0.825\tTest Loss: 1.637\tAvg Time Cost: 14.914s\n",
      "Epoch 47\n",
      "Train Accuracy: 0.965\tTrain Loss: 1.497\tTest Accuracy: 0.821\tTest Loss: 1.641\tAvg Time Cost: 14.916s\n",
      "Epoch 48\n",
      "Train Accuracy: 0.965\tTrain Loss: 1.496\tTest Accuracy: 0.817\tTest Loss: 1.641\tAvg Time Cost: 14.918s\n",
      "Epoch 49\n",
      "Train Accuracy: 0.966\tTrain Loss: 1.496\tTest Accuracy: 0.819\tTest Loss: 1.641\tAvg Time Cost: 14.918s\n",
      "Epoch 50\n",
      "Train Accuracy: 0.967\tTrain Loss: 1.494\tTest Accuracy: 0.825\tTest Loss: 1.635\tAvg Time Cost: 14.916s\n",
      "Epoch 51\n",
      "Train Accuracy: 0.969\tTrain Loss: 1.492\tTest Accuracy: 0.823\tTest Loss: 1.637\tAvg Time Cost: 14.914s\n",
      "Epoch 52\n",
      "Train Accuracy: 0.968\tTrain Loss: 1.494\tTest Accuracy: 0.824\tTest Loss: 1.639\tAvg Time Cost: 14.912s\n",
      "Epoch 53\n",
      "Train Accuracy: 0.969\tTrain Loss: 1.493\tTest Accuracy: 0.818\tTest Loss: 1.645\tAvg Time Cost: 14.909s\n",
      "Epoch 54\n",
      "Train Accuracy: 0.967\tTrain Loss: 1.494\tTest Accuracy: 0.821\tTest Loss: 1.641\tAvg Time Cost: 14.907s\n",
      "Epoch 55\n",
      "Train Accuracy: 0.971\tTrain Loss: 1.491\tTest Accuracy: 0.819\tTest Loss: 1.639\tAvg Time Cost: 14.909s\n",
      "Epoch 56\n",
      "Train Accuracy: 0.973\tTrain Loss: 1.489\tTest Accuracy: 0.817\tTest Loss: 1.644\tAvg Time Cost: 14.909s\n",
      "Epoch 57\n",
      "Train Accuracy: 0.970\tTrain Loss: 1.491\tTest Accuracy: 0.820\tTest Loss: 1.641\tAvg Time Cost: 14.907s\n",
      "Epoch 58\n",
      "Train Accuracy: 0.971\tTrain Loss: 1.490\tTest Accuracy: 0.815\tTest Loss: 1.644\tAvg Time Cost: 14.907s\n",
      "Epoch 59\n",
      "Train Accuracy: 0.970\tTrain Loss: 1.491\tTest Accuracy: 0.813\tTest Loss: 1.648\tAvg Time Cost: 14.905s\n",
      "Epoch 60\n",
      "Train Accuracy: 0.972\tTrain Loss: 1.490\tTest Accuracy: 0.815\tTest Loss: 1.646\tAvg Time Cost: 14.903s\n",
      "Epoch 61\n",
      "Train Accuracy: 0.971\tTrain Loss: 1.491\tTest Accuracy: 0.815\tTest Loss: 1.644\tAvg Time Cost: 14.902s\n",
      "Epoch 62\n",
      "Train Accuracy: 0.971\tTrain Loss: 1.491\tTest Accuracy: 0.821\tTest Loss: 1.640\tAvg Time Cost: 14.901s\n",
      "Epoch 63\n",
      "Train Accuracy: 0.973\tTrain Loss: 1.488\tTest Accuracy: 0.819\tTest Loss: 1.640\tAvg Time Cost: 14.898s\n",
      "Epoch 64\n",
      "Train Accuracy: 0.973\tTrain Loss: 1.488\tTest Accuracy: 0.816\tTest Loss: 1.644\tAvg Time Cost: 14.901s\n",
      "Epoch 65\n",
      "Train Accuracy: 0.972\tTrain Loss: 1.490\tTest Accuracy: 0.815\tTest Loss: 1.645\tAvg Time Cost: 14.903s\n",
      "Epoch 66\n",
      "Train Accuracy: 0.975\tTrain Loss: 1.487\tTest Accuracy: 0.821\tTest Loss: 1.637\tAvg Time Cost: 14.901s\n",
      "Epoch 67\n",
      "Train Accuracy: 0.972\tTrain Loss: 1.489\tTest Accuracy: 0.820\tTest Loss: 1.641\tAvg Time Cost: 14.899s\n",
      "Epoch 68\n",
      "Train Accuracy: 0.973\tTrain Loss: 1.488\tTest Accuracy: 0.822\tTest Loss: 1.640\tAvg Time Cost: 14.902s\n",
      "Epoch 69\n",
      "Train Accuracy: 0.974\tTrain Loss: 1.487\tTest Accuracy: 0.815\tTest Loss: 1.645\tAvg Time Cost: 14.904s\n",
      "Epoch 70\n",
      "Train Accuracy: 0.974\tTrain Loss: 1.488\tTest Accuracy: 0.818\tTest Loss: 1.641\tAvg Time Cost: 14.909s\n",
      "Epoch 71\n",
      "Train Accuracy: 0.975\tTrain Loss: 1.487\tTest Accuracy: 0.818\tTest Loss: 1.643\tAvg Time Cost: 14.907s\n",
      "Epoch 72\n",
      "Train Accuracy: 0.976\tTrain Loss: 1.485\tTest Accuracy: 0.817\tTest Loss: 1.644\tAvg Time Cost: 14.905s\n",
      "Epoch 73\n",
      "Train Accuracy: 0.977\tTrain Loss: 1.485\tTest Accuracy: 0.822\tTest Loss: 1.638\tAvg Time Cost: 14.906s\n",
      "Epoch 74\n",
      "Train Accuracy: 0.975\tTrain Loss: 1.486\tTest Accuracy: 0.815\tTest Loss: 1.645\tAvg Time Cost: 14.905s\n",
      "Epoch 75\n",
      "Train Accuracy: 0.976\tTrain Loss: 1.486\tTest Accuracy: 0.818\tTest Loss: 1.644\tAvg Time Cost: 14.903s\n",
      "Epoch 76\n",
      "Train Accuracy: 0.976\tTrain Loss: 1.485\tTest Accuracy: 0.822\tTest Loss: 1.637\tAvg Time Cost: 14.903s\n",
      "Epoch 77\n",
      "Train Accuracy: 0.976\tTrain Loss: 1.485\tTest Accuracy: 0.820\tTest Loss: 1.638\tAvg Time Cost: 14.904s\n",
      "Epoch 78\n",
      "Train Accuracy: 0.977\tTrain Loss: 1.484\tTest Accuracy: 0.823\tTest Loss: 1.636\tAvg Time Cost: 14.904s\n",
      "Epoch 79\n",
      "Train Accuracy: 0.978\tTrain Loss: 1.484\tTest Accuracy: 0.820\tTest Loss: 1.638\tAvg Time Cost: 14.904s\n",
      "Epoch 80\n",
      "Train Accuracy: 0.977\tTrain Loss: 1.485\tTest Accuracy: 0.819\tTest Loss: 1.641\tAvg Time Cost: 14.907s\n",
      "Epoch 81\n",
      "Train Accuracy: 0.977\tTrain Loss: 1.484\tTest Accuracy: 0.823\tTest Loss: 1.637\tAvg Time Cost: 14.907s\n",
      "Epoch 82\n",
      "Train Accuracy: 0.978\tTrain Loss: 1.483\tTest Accuracy: 0.832\tTest Loss: 1.629\tAvg Time Cost: 14.905s\n",
      "Epoch 83\n",
      "Train Accuracy: 0.978\tTrain Loss: 1.483\tTest Accuracy: 0.823\tTest Loss: 1.635\tAvg Time Cost: 14.904s\n",
      "Epoch 84\n",
      "Train Accuracy: 0.977\tTrain Loss: 1.484\tTest Accuracy: 0.823\tTest Loss: 1.637\tAvg Time Cost: 14.908s\n",
      "Epoch 85\n",
      "Train Accuracy: 0.976\tTrain Loss: 1.485\tTest Accuracy: 0.819\tTest Loss: 1.640\tAvg Time Cost: 14.914s\n",
      "Epoch 86\n",
      "Train Accuracy: 0.978\tTrain Loss: 1.484\tTest Accuracy: 0.821\tTest Loss: 1.641\tAvg Time Cost: 14.920s\n",
      "Epoch 87\n",
      "Train Accuracy: 0.978\tTrain Loss: 1.483\tTest Accuracy: 0.828\tTest Loss: 1.632\tAvg Time Cost: 14.920s\n",
      "Epoch 88\n",
      "Train Accuracy: 0.979\tTrain Loss: 1.483\tTest Accuracy: 0.825\tTest Loss: 1.636\tAvg Time Cost: 14.921s\n",
      "Epoch 89\n",
      "Train Accuracy: 0.979\tTrain Loss: 1.483\tTest Accuracy: 0.823\tTest Loss: 1.637\tAvg Time Cost: 14.922s\n",
      "Epoch 90\n",
      "Train Accuracy: 0.980\tTrain Loss: 1.482\tTest Accuracy: 0.826\tTest Loss: 1.637\tAvg Time Cost: 14.921s\n",
      "Epoch 91\n",
      "Train Accuracy: 0.980\tTrain Loss: 1.482\tTest Accuracy: 0.825\tTest Loss: 1.638\tAvg Time Cost: 14.919s\n",
      "Epoch 92\n",
      "Train Accuracy: 0.979\tTrain Loss: 1.483\tTest Accuracy: 0.830\tTest Loss: 1.629\tAvg Time Cost: 14.918s\n",
      "Epoch 93\n",
      "Train Accuracy: 0.979\tTrain Loss: 1.482\tTest Accuracy: 0.828\tTest Loss: 1.632\tAvg Time Cost: 14.919s\n",
      "Epoch 94\n",
      "Train Accuracy: 0.979\tTrain Loss: 1.482\tTest Accuracy: 0.824\tTest Loss: 1.640\tAvg Time Cost: 14.918s\n",
      "Epoch 95\n",
      "Train Accuracy: 0.980\tTrain Loss: 1.481\tTest Accuracy: 0.828\tTest Loss: 1.630\tAvg Time Cost: 14.921s\n",
      "Epoch 96\n",
      "Train Accuracy: 0.980\tTrain Loss: 1.481\tTest Accuracy: 0.824\tTest Loss: 1.636\tAvg Time Cost: 14.923s\n",
      "Epoch 97\n",
      "Train Accuracy: 0.981\tTrain Loss: 1.481\tTest Accuracy: 0.827\tTest Loss: 1.636\tAvg Time Cost: 14.921s\n",
      "Epoch 98\n",
      "Train Accuracy: 0.980\tTrain Loss: 1.482\tTest Accuracy: 0.828\tTest Loss: 1.633\tAvg Time Cost: 14.924s\n",
      "Epoch 99\n",
      "Train Accuracy: 0.980\tTrain Loss: 1.481\tTest Accuracy: 0.825\tTest Loss: 1.636\tAvg Time Cost: 14.923s\n"
     ]
    },
    {
     "data": {
      "image/png": "[encoded data removed]",
      "text/plain": [
       "<Figure size 640x480 with 1 Axes>"
      ]
     },
     "metadata": {},
     "output_type": "display_data"
    }
   ],
   "source": [
    "%run cnn_train.py --optimizer Adam --learning_rate 0.0001 --batch_size 256  --max_steps 500"
   ],
   "metadata": {
    "collapsed": false
   }
  },
  {
   "cell_type": "markdown",
   "source": [
    "### NAdam Optimizer"
   ],
   "metadata": {
    "collapsed": false
   }
  },
  {
   "cell_type": "code",
   "execution_count": null,
   "outputs": [],
   "source": [
    "%run cnn_train.py --optimizer NAdam --learning_rate 0.0001 --batch_size 256  --max_steps 500"
   ],
   "metadata": {
    "collapsed": false
   }
  },
  {
   "cell_type": "markdown",
   "source": [
    "### RMSprop Optimizer"
   ],
   "metadata": {
    "collapsed": false
   }
  },
  {
   "cell_type": "code",
   "execution_count": null,
   "metadata": {
    "collapsed": false
   },
   "outputs": [],
   "source": [
    "%run cnn_train.py --optimizer RMSprop --learning_rate 0.0001 --batch_size 256  --max_steps 500"
   ]
  },
  {
   "cell_type": "markdown",
   "source": [
    "## Learning Rate Comparison\n",
    "\n",
    "### lr=0.0001"
   ],
   "metadata": {
    "collapsed": false
   }
  },
  {
   "cell_type": "code",
   "execution_count": null,
   "outputs": [],
   "source": [
    "%run cnn_train.py --optimizer Adam --learning_rate 0.0001 --batch_size 256  --max_steps 500"
   ],
   "metadata": {
    "collapsed": false
   }
  },
  {
   "cell_type": "markdown",
   "source": [
    "### lr=0.001"
   ],
   "metadata": {
    "collapsed": false
   }
  },
  {
   "cell_type": "code",
   "execution_count": null,
   "outputs": [],
   "source": [
    "%run cnn_train.py --optimizer Adam --learning_rate 0.001 --batch_size 256  --max_steps 500"
   ],
   "metadata": {
    "collapsed": false
   }
  },
  {
   "cell_type": "markdown",
   "source": [
    "### lr=0.01"
   ],
   "metadata": {
    "collapsed": false
   }
  },
  {
   "cell_type": "code",
   "execution_count": null,
   "outputs": [],
   "source": [
    "%run cnn_train.py --optimizer Adam --learning_rate 0.01 --batch_size 256  --max_steps 500"
   ],
   "metadata": {
    "collapsed": false
   }
  }
 ],
 "metadata": {
  "kernelspec": {
   "display_name": "Python 3",
   "language": "python",
   "name": "python3"
  },
  "language_info": {
   "codemirror_mode": {
    "name": "ipython",
    "version": 3
   },
   "file_extension": ".py",
   "mimetype": "text/x-python",
   "name": "python",
   "nbconvert_exporter": "python",
   "pygments_lexer": "ipython3",
   "version": "3.10.10"
  }
 },
 "nbformat": 4,
 "nbformat_minor": 0
}
